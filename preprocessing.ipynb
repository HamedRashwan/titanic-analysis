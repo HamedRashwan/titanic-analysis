{
  "cells": [
    {
      "cell_type": "code",
      "execution_count": 1,
      "metadata": {
        "id": "bPYt65IDBjnX"
      },
      "outputs": [],
      "source": [
        "import pandas as pd"
      ]
    },
    {
      "cell_type": "code",
      "execution_count": 2,
      "metadata": {
        "colab": {
          "base_uri": "https://localhost:8080/",
          "height": 1000
        },
        "id": "yv8HLToQB3Us",
        "outputId": "6983e68a-340d-46a7-edb1-48364efc30bf"
      },
      "outputs": [
        {
          "data": {
            "text/html": [
              "<div>\n",
              "<style scoped>\n",
              "    .dataframe tbody tr th:only-of-type {\n",
              "        vertical-align: middle;\n",
              "    }\n",
              "\n",
              "    .dataframe tbody tr th {\n",
              "        vertical-align: top;\n",
              "    }\n",
              "\n",
              "    .dataframe thead th {\n",
              "        text-align: right;\n",
              "    }\n",
              "</style>\n",
              "<table border=\"1\" class=\"dataframe\">\n",
              "  <thead>\n",
              "    <tr style=\"text-align: right;\">\n",
              "      <th></th>\n",
              "      <th>Address</th>\n",
              "      <th>Lot</th>\n",
              "      <th>AM or PM</th>\n",
              "      <th>Browser Info</th>\n",
              "      <th>Company</th>\n",
              "      <th>Credit Card</th>\n",
              "      <th>CC Exp Date</th>\n",
              "      <th>CC Security Code</th>\n",
              "      <th>CC Provider</th>\n",
              "      <th>Email</th>\n",
              "      <th>Job</th>\n",
              "      <th>IP Address</th>\n",
              "      <th>Language</th>\n",
              "      <th>Purchase Price</th>\n",
              "    </tr>\n",
              "  </thead>\n",
              "  <tbody>\n",
              "    <tr>\n",
              "      <th>0</th>\n",
              "      <td>16629 Pace Camp Apt. 448\\nAlexisborough, NE 77...</td>\n",
              "      <td>46 in</td>\n",
              "      <td>PM</td>\n",
              "      <td>Opera/9.56.(X11; Linux x86_64; sl-SI) Presto/2...</td>\n",
              "      <td>Martinez-Herman</td>\n",
              "      <td>6011929061123406</td>\n",
              "      <td>02/20</td>\n",
              "      <td>900</td>\n",
              "      <td>JCB 16 digit</td>\n",
              "      <td>pdunlap@yahoo.com</td>\n",
              "      <td>Scientist, product/process development</td>\n",
              "      <td>149.146.147.205</td>\n",
              "      <td>el</td>\n",
              "      <td>98.14</td>\n",
              "    </tr>\n",
              "    <tr>\n",
              "      <th>1</th>\n",
              "      <td>9374 Jasmine Spurs Suite 508\\nSouth John, TN 8...</td>\n",
              "      <td>28 rn</td>\n",
              "      <td>PM</td>\n",
              "      <td>Opera/8.93.(Windows 98; Win 9x 4.90; en-US) Pr...</td>\n",
              "      <td>Fletcher, Richards and Whitaker</td>\n",
              "      <td>3337758169645356</td>\n",
              "      <td>11/18</td>\n",
              "      <td>561</td>\n",
              "      <td>Mastercard</td>\n",
              "      <td>anthony41@reed.com</td>\n",
              "      <td>Drilling engineer</td>\n",
              "      <td>15.160.41.51</td>\n",
              "      <td>fr</td>\n",
              "      <td>70.73</td>\n",
              "    </tr>\n",
              "    <tr>\n",
              "      <th>2</th>\n",
              "      <td>Unit 0065 Box 5052\\nDPO AP 27450</td>\n",
              "      <td>94 vE</td>\n",
              "      <td>PM</td>\n",
              "      <td>Mozilla/5.0 (compatible; MSIE 9.0; Windows NT ...</td>\n",
              "      <td>Simpson, Williams and Pham</td>\n",
              "      <td>675957666125</td>\n",
              "      <td>08/19</td>\n",
              "      <td>699</td>\n",
              "      <td>JCB 16 digit</td>\n",
              "      <td>amymiller@morales-harrison.com</td>\n",
              "      <td>Customer service manager</td>\n",
              "      <td>132.207.160.22</td>\n",
              "      <td>de</td>\n",
              "      <td>0.95</td>\n",
              "    </tr>\n",
              "    <tr>\n",
              "      <th>3</th>\n",
              "      <td>7780 Julia Fords\\nNew Stacy, WA 45798</td>\n",
              "      <td>36 vm</td>\n",
              "      <td>PM</td>\n",
              "      <td>Mozilla/5.0 (Macintosh; Intel Mac OS X 10_8_0 ...</td>\n",
              "      <td>Williams, Marshall and Buchanan</td>\n",
              "      <td>6011578504430710</td>\n",
              "      <td>02/24</td>\n",
              "      <td>384</td>\n",
              "      <td>Discover</td>\n",
              "      <td>brent16@olson-robinson.info</td>\n",
              "      <td>Drilling engineer</td>\n",
              "      <td>30.250.74.19</td>\n",
              "      <td>es</td>\n",
              "      <td>78.04</td>\n",
              "    </tr>\n",
              "    <tr>\n",
              "      <th>4</th>\n",
              "      <td>23012 Munoz Drive Suite 337\\nNew Cynthia, TX 5...</td>\n",
              "      <td>20 IE</td>\n",
              "      <td>AM</td>\n",
              "      <td>Opera/9.58.(X11; Linux x86_64; it-IT) Presto/2...</td>\n",
              "      <td>Brown, Watson and Andrews</td>\n",
              "      <td>6011456623207998</td>\n",
              "      <td>10/25</td>\n",
              "      <td>678</td>\n",
              "      <td>Diners Club / Carte Blanche</td>\n",
              "      <td>christopherwright@gmail.com</td>\n",
              "      <td>Fine artist</td>\n",
              "      <td>24.140.33.94</td>\n",
              "      <td>es</td>\n",
              "      <td>77.82</td>\n",
              "    </tr>\n",
              "    <tr>\n",
              "      <th>...</th>\n",
              "      <td>...</td>\n",
              "      <td>...</td>\n",
              "      <td>...</td>\n",
              "      <td>...</td>\n",
              "      <td>...</td>\n",
              "      <td>...</td>\n",
              "      <td>...</td>\n",
              "      <td>...</td>\n",
              "      <td>...</td>\n",
              "      <td>...</td>\n",
              "      <td>...</td>\n",
              "      <td>...</td>\n",
              "      <td>...</td>\n",
              "      <td>...</td>\n",
              "    </tr>\n",
              "    <tr>\n",
              "      <th>9995</th>\n",
              "      <td>966 Castaneda Locks\\nWest Juliafurt, CO 96415</td>\n",
              "      <td>92 XI</td>\n",
              "      <td>PM</td>\n",
              "      <td>Mozilla/5.0 (Windows NT 5.1) AppleWebKit/5352 ...</td>\n",
              "      <td>Randall-Sloan</td>\n",
              "      <td>342945015358701</td>\n",
              "      <td>03/22</td>\n",
              "      <td>838</td>\n",
              "      <td>JCB 15 digit</td>\n",
              "      <td>iscott@wade-garner.com</td>\n",
              "      <td>Printmaker</td>\n",
              "      <td>29.73.197.114</td>\n",
              "      <td>it</td>\n",
              "      <td>82.21</td>\n",
              "    </tr>\n",
              "    <tr>\n",
              "      <th>9996</th>\n",
              "      <td>832 Curtis Dam Suite 785\\nNorth Edwardburgh, T...</td>\n",
              "      <td>41 JY</td>\n",
              "      <td>AM</td>\n",
              "      <td>Mozilla/5.0 (compatible; MSIE 9.0; Windows NT ...</td>\n",
              "      <td>Hale, Collins and Wilson</td>\n",
              "      <td>210033169205009</td>\n",
              "      <td>07/25</td>\n",
              "      <td>207</td>\n",
              "      <td>JCB 16 digit</td>\n",
              "      <td>mary85@hotmail.com</td>\n",
              "      <td>Energy engineer</td>\n",
              "      <td>121.133.168.51</td>\n",
              "      <td>pt</td>\n",
              "      <td>25.63</td>\n",
              "    </tr>\n",
              "    <tr>\n",
              "      <th>9997</th>\n",
              "      <td>Unit 4434 Box 6343\\nDPO AE 28026-0283</td>\n",
              "      <td>74 Zh</td>\n",
              "      <td>AM</td>\n",
              "      <td>Mozilla/5.0 (Macintosh; U; Intel Mac OS X 10_7...</td>\n",
              "      <td>Anderson Ltd</td>\n",
              "      <td>6011539787356311</td>\n",
              "      <td>05/21</td>\n",
              "      <td>1</td>\n",
              "      <td>VISA 16 digit</td>\n",
              "      <td>tyler16@gmail.com</td>\n",
              "      <td>Veterinary surgeon</td>\n",
              "      <td>156.210.0.254</td>\n",
              "      <td>el</td>\n",
              "      <td>83.98</td>\n",
              "    </tr>\n",
              "    <tr>\n",
              "      <th>9998</th>\n",
              "      <td>0096 English Rest\\nRoystad, IA 12457</td>\n",
              "      <td>74 cL</td>\n",
              "      <td>PM</td>\n",
              "      <td>Mozilla/5.0 (Macintosh; Intel Mac OS X 10_8_8;...</td>\n",
              "      <td>Cook Inc</td>\n",
              "      <td>180003348082930</td>\n",
              "      <td>11/17</td>\n",
              "      <td>987</td>\n",
              "      <td>American Express</td>\n",
              "      <td>elizabethmoore@reid.net</td>\n",
              "      <td>Local government officer</td>\n",
              "      <td>55.78.26.143</td>\n",
              "      <td>es</td>\n",
              "      <td>38.84</td>\n",
              "    </tr>\n",
              "    <tr>\n",
              "      <th>9999</th>\n",
              "      <td>40674 Barrett Stravenue\\nGrimesville, WI 79682</td>\n",
              "      <td>64 Hr</td>\n",
              "      <td>AM</td>\n",
              "      <td>Mozilla/5.0 (X11; Linux i686; rv:1.9.5.20) Gec...</td>\n",
              "      <td>Greene Inc</td>\n",
              "      <td>4139972901927273</td>\n",
              "      <td>02/19</td>\n",
              "      <td>302</td>\n",
              "      <td>JCB 15 digit</td>\n",
              "      <td>rachelford@vaughn.com</td>\n",
              "      <td>Embryologist, clinical</td>\n",
              "      <td>176.119.198.199</td>\n",
              "      <td>el</td>\n",
              "      <td>67.59</td>\n",
              "    </tr>\n",
              "  </tbody>\n",
              "</table>\n",
              "<p>10000 rows × 14 columns</p>\n",
              "</div>"
            ],
            "text/plain": [
              "                                                Address    Lot AM or PM  \\\n",
              "0     16629 Pace Camp Apt. 448\\nAlexisborough, NE 77...  46 in       PM   \n",
              "1     9374 Jasmine Spurs Suite 508\\nSouth John, TN 8...  28 rn       PM   \n",
              "2                      Unit 0065 Box 5052\\nDPO AP 27450  94 vE       PM   \n",
              "3                 7780 Julia Fords\\nNew Stacy, WA 45798  36 vm       PM   \n",
              "4     23012 Munoz Drive Suite 337\\nNew Cynthia, TX 5...  20 IE       AM   \n",
              "...                                                 ...    ...      ...   \n",
              "9995      966 Castaneda Locks\\nWest Juliafurt, CO 96415  92 XI       PM   \n",
              "9996  832 Curtis Dam Suite 785\\nNorth Edwardburgh, T...  41 JY       AM   \n",
              "9997              Unit 4434 Box 6343\\nDPO AE 28026-0283  74 Zh       AM   \n",
              "9998               0096 English Rest\\nRoystad, IA 12457  74 cL       PM   \n",
              "9999     40674 Barrett Stravenue\\nGrimesville, WI 79682  64 Hr       AM   \n",
              "\n",
              "                                           Browser Info  \\\n",
              "0     Opera/9.56.(X11; Linux x86_64; sl-SI) Presto/2...   \n",
              "1     Opera/8.93.(Windows 98; Win 9x 4.90; en-US) Pr...   \n",
              "2     Mozilla/5.0 (compatible; MSIE 9.0; Windows NT ...   \n",
              "3     Mozilla/5.0 (Macintosh; Intel Mac OS X 10_8_0 ...   \n",
              "4     Opera/9.58.(X11; Linux x86_64; it-IT) Presto/2...   \n",
              "...                                                 ...   \n",
              "9995  Mozilla/5.0 (Windows NT 5.1) AppleWebKit/5352 ...   \n",
              "9996  Mozilla/5.0 (compatible; MSIE 9.0; Windows NT ...   \n",
              "9997  Mozilla/5.0 (Macintosh; U; Intel Mac OS X 10_7...   \n",
              "9998  Mozilla/5.0 (Macintosh; Intel Mac OS X 10_8_8;...   \n",
              "9999  Mozilla/5.0 (X11; Linux i686; rv:1.9.5.20) Gec...   \n",
              "\n",
              "                              Company       Credit Card CC Exp Date  \\\n",
              "0                     Martinez-Herman  6011929061123406       02/20   \n",
              "1     Fletcher, Richards and Whitaker  3337758169645356       11/18   \n",
              "2          Simpson, Williams and Pham      675957666125       08/19   \n",
              "3     Williams, Marshall and Buchanan  6011578504430710       02/24   \n",
              "4           Brown, Watson and Andrews  6011456623207998       10/25   \n",
              "...                               ...               ...         ...   \n",
              "9995                    Randall-Sloan   342945015358701       03/22   \n",
              "9996         Hale, Collins and Wilson   210033169205009       07/25   \n",
              "9997                     Anderson Ltd  6011539787356311       05/21   \n",
              "9998                         Cook Inc   180003348082930       11/17   \n",
              "9999                       Greene Inc  4139972901927273       02/19   \n",
              "\n",
              "      CC Security Code                  CC Provider  \\\n",
              "0                  900                 JCB 16 digit   \n",
              "1                  561                   Mastercard   \n",
              "2                  699                 JCB 16 digit   \n",
              "3                  384                     Discover   \n",
              "4                  678  Diners Club / Carte Blanche   \n",
              "...                ...                          ...   \n",
              "9995               838                 JCB 15 digit   \n",
              "9996               207                 JCB 16 digit   \n",
              "9997                 1                VISA 16 digit   \n",
              "9998               987             American Express   \n",
              "9999               302                 JCB 15 digit   \n",
              "\n",
              "                               Email                                     Job  \\\n",
              "0                  pdunlap@yahoo.com  Scientist, product/process development   \n",
              "1                 anthony41@reed.com                       Drilling engineer   \n",
              "2     amymiller@morales-harrison.com                Customer service manager   \n",
              "3        brent16@olson-robinson.info                       Drilling engineer   \n",
              "4        christopherwright@gmail.com                             Fine artist   \n",
              "...                              ...                                     ...   \n",
              "9995          iscott@wade-garner.com                              Printmaker   \n",
              "9996              mary85@hotmail.com                         Energy engineer   \n",
              "9997               tyler16@gmail.com                      Veterinary surgeon   \n",
              "9998         elizabethmoore@reid.net                Local government officer   \n",
              "9999           rachelford@vaughn.com                  Embryologist, clinical   \n",
              "\n",
              "           IP Address Language  Purchase Price  \n",
              "0     149.146.147.205       el           98.14  \n",
              "1        15.160.41.51       fr           70.73  \n",
              "2      132.207.160.22       de            0.95  \n",
              "3        30.250.74.19       es           78.04  \n",
              "4        24.140.33.94       es           77.82  \n",
              "...               ...      ...             ...  \n",
              "9995    29.73.197.114       it           82.21  \n",
              "9996   121.133.168.51       pt           25.63  \n",
              "9997    156.210.0.254       el           83.98  \n",
              "9998     55.78.26.143       es           38.84  \n",
              "9999  176.119.198.199       el           67.59  \n",
              "\n",
              "[10000 rows x 14 columns]"
            ]
          },
          "execution_count": 2,
          "metadata": {},
          "output_type": "execute_result"
        }
      ],
      "source": [
        "df=pd.read_csv('Ecommerce Purchases.csv')\n",
        "df"
      ]
    },
    {
      "cell_type": "code",
      "execution_count": 3,
      "metadata": {
        "colab": {
          "base_uri": "https://localhost:8080/"
        },
        "id": "1VMlpGNFB9Es",
        "outputId": "0b13e017-5e49-4a6c-e8b6-00c462d20702"
      },
      "outputs": [
        {
          "name": "stdout",
          "output_type": "stream",
          "text": [
            "Requirement already satisfied: user-agents in c:\\users\\hamed\\appdata\\local\\programs\\python\\python311\\lib\\site-packages (2.2.0)\n",
            "Requirement already satisfied: ua-parser>=0.10.0 in c:\\users\\hamed\\appdata\\local\\programs\\python\\python311\\lib\\site-packages (from user-agents) (0.18.0)\n"
          ]
        },
        {
          "name": "stderr",
          "output_type": "stream",
          "text": [
            "\n",
            "[notice] A new release of pip is available: 23.3.1 -> 24.0\n",
            "[notice] To update, run: python.exe -m pip install --upgrade pip\n"
          ]
        }
      ],
      "source": [
        "! pip install user-agents"
      ]
    },
    {
      "cell_type": "code",
      "execution_count": 4,
      "metadata": {
        "id": "CNhv62iVCblQ"
      },
      "outputs": [],
      "source": [
        "import user_agents"
      ]
    },
    {
      "cell_type": "code",
      "execution_count": 5,
      "metadata": {
        "colab": {
          "base_uri": "https://localhost:8080/"
        },
        "id": "zd5SfD_8CJ--",
        "outputId": "87581e41-e142-4bbd-f25f-9f45bc2e5c25"
      },
      "outputs": [
        {
          "data": {
            "text/plain": [
              "Index(['Address', 'Lot', 'AM or PM', 'Browser Info', 'Company', 'Credit Card',\n",
              "       'CC Exp Date', 'CC Security Code', 'CC Provider', 'Email', 'Job',\n",
              "       'IP Address', 'Language', 'Purchase Price'],\n",
              "      dtype='object')"
            ]
          },
          "execution_count": 5,
          "metadata": {},
          "output_type": "execute_result"
        }
      ],
      "source": [
        "df.columns"
      ]
    },
    {
      "cell_type": "code",
      "execution_count": 6,
      "metadata": {
        "colab": {
          "base_uri": "https://localhost:8080/",
          "height": 37
        },
        "id": "X_2ByfF3COky",
        "outputId": "a5596329-73bd-4369-be90-e5f997d0e006"
      },
      "outputs": [
        {
          "data": {
            "text/plain": [
              "'Opera/9.56.(X11; Linux x86_64; sl-SI) Presto/2.9.183 Version/12.00'"
            ]
          },
          "execution_count": 6,
          "metadata": {},
          "output_type": "execute_result"
        }
      ],
      "source": [
        "df['Browser Info'][0]"
      ]
    },
    {
      "cell_type": "code",
      "execution_count": 7,
      "metadata": {
        "id": "wC7h5cXBCUAd"
      },
      "outputs": [],
      "source": [
        "ua=df['Browser Info'][0]\n",
        "ua=user_agents.parse(ua)"
      ]
    },
    {
      "cell_type": "code",
      "execution_count": 8,
      "metadata": {
        "colab": {
          "base_uri": "https://localhost:8080/",
          "height": 37
        },
        "id": "14VhOch2Chkz",
        "outputId": "28217878-3a38-4d9b-8c16-1650cdfe1f50"
      },
      "outputs": [
        {
          "data": {
            "text/plain": [
              "'Opera'"
            ]
          },
          "execution_count": 8,
          "metadata": {},
          "output_type": "execute_result"
        }
      ],
      "source": [
        "ua.browser.family"
      ]
    },
    {
      "cell_type": "code",
      "execution_count": 9,
      "metadata": {
        "colab": {
          "base_uri": "https://localhost:8080/"
        },
        "id": "VKx62NdkCnec",
        "outputId": "c9c6cfc0-3bcf-4f12-a53a-c9d6eb18935b"
      },
      "outputs": [
        {
          "data": {
            "text/plain": [
              "False"
            ]
          },
          "execution_count": 9,
          "metadata": {},
          "output_type": "execute_result"
        }
      ],
      "source": [
        "ua.is_bot"
      ]
    },
    {
      "cell_type": "code",
      "execution_count": 10,
      "metadata": {
        "colab": {
          "base_uri": "https://localhost:8080/"
        },
        "id": "U4uLUyIFCrSY",
        "outputId": "7c98bd1d-55c2-4b35-f4a3-13ac71d5bb0b"
      },
      "outputs": [
        {
          "data": {
            "text/plain": [
              "False"
            ]
          },
          "execution_count": 10,
          "metadata": {},
          "output_type": "execute_result"
        }
      ],
      "source": [
        "ua.is_mobile"
      ]
    },
    {
      "cell_type": "code",
      "execution_count": 11,
      "metadata": {
        "colab": {
          "base_uri": "https://localhost:8080/",
          "height": 37
        },
        "id": "Tp_QWup8Cwi9",
        "outputId": "1a7ff3bd-7082-49ae-9577-fff11c047396"
      },
      "outputs": [
        {
          "data": {
            "text/plain": [
              "'Linux'"
            ]
          },
          "execution_count": 11,
          "metadata": {},
          "output_type": "execute_result"
        }
      ],
      "source": [
        "ua.os.family"
      ]
    },
    {
      "cell_type": "code",
      "execution_count": 12,
      "metadata": {
        "id": "AVvknIGhCzaI"
      },
      "outputs": [],
      "source": [
        "df['os']=df['Browser Info'].apply(lambda x: user_agents.parse(x).os.family)"
      ]
    },
    {
      "cell_type": "code",
      "execution_count": 13,
      "metadata": {
        "colab": {
          "base_uri": "https://localhost:8080/"
        },
        "id": "i6nVheJtDATY",
        "outputId": "62a5f627-dcc4-48fd-cb63-240224f6a672"
      },
      "outputs": [
        {
          "data": {
            "text/plain": [
              "os\n",
              "Windows     4994\n",
              "Linux       2322\n",
              "Mac OS X    2061\n",
              "iOS          623\n",
              "Name: count, dtype: int64"
            ]
          },
          "execution_count": 13,
          "metadata": {},
          "output_type": "execute_result"
        }
      ],
      "source": [
        "df['os'].value_counts()"
      ]
    },
    {
      "cell_type": "code",
      "execution_count": 14,
      "metadata": {
        "id": "Jpj_bqOjEFRn"
      },
      "outputs": [],
      "source": [
        "from ip2geotools.databases.noncommercial import DbIpCity as ip2geo"
      ]
    },
    {
      "cell_type": "code",
      "execution_count": 15,
      "metadata": {
        "colab": {
          "base_uri": "https://localhost:8080/"
        },
        "id": "wjdLXfGrEdkp",
        "outputId": "5c85809c-1da4-4dd4-b1df-24b34b897146"
      },
      "outputs": [
        {
          "data": {
            "text/plain": [
              "ip2geotools.models.IpLocation(197.46.98.82)"
            ]
          },
          "execution_count": 15,
          "metadata": {},
          "output_type": "execute_result"
        }
      ],
      "source": [
        "response=ip2geo.get(ip_address='197.46.98.82',api_key='free')\n",
        "response"
      ]
    },
    {
      "cell_type": "code",
      "execution_count": 16,
      "metadata": {
        "colab": {
          "base_uri": "https://localhost:8080/",
          "height": 37
        },
        "id": "wmUxHGPsEt5D",
        "outputId": "2d804808-0cef-4382-e0c0-a16fc3fad844"
      },
      "outputs": [
        {
          "data": {
            "text/plain": [
              "'Cairo'"
            ]
          },
          "execution_count": 16,
          "metadata": {},
          "output_type": "execute_result"
        }
      ],
      "source": [
        "response.city"
      ]
    },
    {
      "cell_type": "code",
      "execution_count": 17,
      "metadata": {
        "colab": {
          "base_uri": "https://localhost:8080/",
          "height": 37
        },
        "id": "b7OYxZCbExRZ",
        "outputId": "c2e705c3-379d-4cba-cd5a-71abfa4f3d23"
      },
      "outputs": [
        {
          "data": {
            "text/plain": [
              "'EG'"
            ]
          },
          "execution_count": 17,
          "metadata": {},
          "output_type": "execute_result"
        }
      ],
      "source": [
        "response.country"
      ]
    },
    {
      "cell_type": "code",
      "execution_count": 18,
      "metadata": {
        "colab": {
          "base_uri": "https://localhost:8080/"
        },
        "id": "SJkczrGWE1c5",
        "outputId": "5bc29582-d16a-40cc-f4ad-8a5477ffff54"
      },
      "outputs": [
        {
          "data": {
            "text/plain": [
              "(30.0443879, 31.2357257)"
            ]
          },
          "execution_count": 18,
          "metadata": {},
          "output_type": "execute_result"
        }
      ],
      "source": [
        "response.latitude,response.longitude"
      ]
    },
    {
      "cell_type": "code",
      "execution_count": 19,
      "metadata": {
        "colab": {
          "base_uri": "https://localhost:8080/",
          "height": 37
        },
        "id": "dgXEgflqE5RJ",
        "outputId": "91af91a1-12fc-4a87-967b-3b7ce8928fdf"
      },
      "outputs": [
        {
          "data": {
            "text/plain": [
              "'Cairo'"
            ]
          },
          "execution_count": 19,
          "metadata": {},
          "output_type": "execute_result"
        }
      ],
      "source": [
        "response.region"
      ]
    },
    {
      "cell_type": "code",
      "execution_count": 20,
      "metadata": {
        "colab": {
          "base_uri": "https://localhost:8080/"
        },
        "id": "2RLr5eTxE-fc",
        "outputId": "ca36f58f-290f-4502-a7a3-ec98527d0ac5"
      },
      "outputs": [
        {
          "name": "stdout",
          "output_type": "stream",
          "text": [
            "Collecting pycountry\n",
            "  Using cached pycountry-23.12.11-py3-none-any.whl.metadata (12 kB)\n",
            "Downloading pycountry-23.12.11-py3-none-any.whl (6.2 MB)\n",
            "   ---------------------------------------- 0.0/6.2 MB ? eta -:--:--\n",
            "   ---------------------------------------- 0.0/6.2 MB 1.4 MB/s eta 0:00:05\n",
            "    --------------------------------------- 0.1/6.2 MB 1.7 MB/s eta 0:00:04\n",
            "   - -------------------------------------- 0.3/6.2 MB 2.1 MB/s eta 0:00:03\n",
            "   -- ------------------------------------- 0.4/6.2 MB 2.3 MB/s eta 0:00:03\n",
            "   ---- ----------------------------------- 0.7/6.2 MB 3.0 MB/s eta 0:00:02\n",
            "   ---- ----------------------------------- 0.7/6.2 MB 2.8 MB/s eta 0:00:02\n",
            "   ---- ----------------------------------- 0.7/6.2 MB 2.2 MB/s eta 0:00:03\n",
            "   ---- ----------------------------------- 0.7/6.2 MB 2.2 MB/s eta 0:00:03\n",
            "   ------- -------------------------------- 1.1/6.2 MB 2.7 MB/s eta 0:00:02\n",
            "   ------- -------------------------------- 1.2/6.2 MB 2.7 MB/s eta 0:00:02\n",
            "   ------- -------------------------------- 1.2/6.2 MB 2.7 MB/s eta 0:00:02\n",
            "   ------- -------------------------------- 1.2/6.2 MB 2.7 MB/s eta 0:00:02\n",
            "   --------- ------------------------------ 1.5/6.2 MB 2.5 MB/s eta 0:00:02\n",
            "   ----------- ---------------------------- 1.9/6.2 MB 2.9 MB/s eta 0:00:02\n",
            "   ------------- -------------------------- 2.0/6.2 MB 2.9 MB/s eta 0:00:02\n",
            "   ------------- -------------------------- 2.1/6.2 MB 3.0 MB/s eta 0:00:02\n",
            "   ------------- -------------------------- 2.2/6.2 MB 2.8 MB/s eta 0:00:02\n",
            "   --------------- ------------------------ 2.5/6.2 MB 3.0 MB/s eta 0:00:02\n",
            "   ----------------- ---------------------- 2.8/6.2 MB 3.2 MB/s eta 0:00:02\n",
            "   ------------------- -------------------- 3.0/6.2 MB 3.3 MB/s eta 0:00:01\n",
            "   -------------------- ------------------- 3.2/6.2 MB 3.2 MB/s eta 0:00:01\n",
            "   --------------------- ------------------ 3.3/6.2 MB 3.3 MB/s eta 0:00:01\n",
            "   ---------------------- ----------------- 3.5/6.2 MB 3.3 MB/s eta 0:00:01\n",
            "   ----------------------- ---------------- 3.6/6.2 MB 3.3 MB/s eta 0:00:01\n",
            "   ------------------------ --------------- 3.8/6.2 MB 3.3 MB/s eta 0:00:01\n",
            "   ------------------------- -------------- 4.0/6.2 MB 3.3 MB/s eta 0:00:01\n",
            "   -------------------------- ------------- 4.1/6.2 MB 3.3 MB/s eta 0:00:01\n",
            "   ---------------------------- ----------- 4.4/6.2 MB 3.3 MB/s eta 0:00:01\n",
            "   ----------------------------- ---------- 4.5/6.2 MB 3.3 MB/s eta 0:00:01\n",
            "   ------------------------------ --------- 4.7/6.2 MB 3.4 MB/s eta 0:00:01\n",
            "   ------------------------------- -------- 4.8/6.2 MB 3.4 MB/s eta 0:00:01\n",
            "   -------------------------------- ------- 5.0/6.2 MB 3.4 MB/s eta 0:00:01\n",
            "   --------------------------------- ------ 5.2/6.2 MB 3.4 MB/s eta 0:00:01\n",
            "   ---------------------------------- ----- 5.3/6.2 MB 3.4 MB/s eta 0:00:01\n",
            "   ----------------------------------- ---- 5.5/6.2 MB 3.4 MB/s eta 0:00:01\n",
            "   ------------------------------------ --- 5.7/6.2 MB 3.4 MB/s eta 0:00:01\n",
            "   ------------------------------------- -- 5.8/6.2 MB 3.4 MB/s eta 0:00:01\n",
            "   -------------------------------------- - 6.0/6.2 MB 3.4 MB/s eta 0:00:01\n",
            "   ---------------------------------------  6.2/6.2 MB 3.4 MB/s eta 0:00:01\n",
            "   ---------------------------------------- 6.2/6.2 MB 3.3 MB/s eta 0:00:00\n",
            "Installing collected packages: pycountry\n",
            "Successfully installed pycountry-23.12.11\n"
          ]
        },
        {
          "name": "stderr",
          "output_type": "stream",
          "text": [
            "\n",
            "[notice] A new release of pip is available: 23.3.1 -> 24.0\n",
            "[notice] To update, run: python.exe -m pip install --upgrade pip\n"
          ]
        }
      ],
      "source": [
        "! pip install  pycountry"
      ]
    },
    {
      "cell_type": "code",
      "execution_count": 21,
      "metadata": {
        "id": "Y46FbdZjFSib"
      },
      "outputs": [],
      "source": [
        "import pycountry"
      ]
    },
    {
      "cell_type": "code",
      "execution_count": 22,
      "metadata": {
        "colab": {
          "base_uri": "https://localhost:8080/",
          "height": 37
        },
        "id": "QEUmYX0AFd_6",
        "outputId": "82b7b53a-9263-4ae8-8adc-2433bcb22611"
      },
      "outputs": [
        {
          "data": {
            "text/plain": [
              "'Egypt'"
            ]
          },
          "execution_count": 22,
          "metadata": {},
          "output_type": "execute_result"
        }
      ],
      "source": [
        "pycountry.countries.get(alpha_2='EG').name"
      ]
    },
    {
      "cell_type": "code",
      "execution_count": 23,
      "metadata": {
        "colab": {
          "base_uri": "https://localhost:8080/"
        },
        "id": "Wg-eu3xVGItY",
        "outputId": "0e8a26a2-a6e3-49e7-d7c8-fd930b93b0ac"
      },
      "outputs": [
        {
          "name": "stdout",
          "output_type": "stream",
          "text": [
            "Collecting geopy\n",
            "  Downloading geopy-2.4.1-py3-none-any.whl.metadata (6.8 kB)\n",
            "Collecting geographiclib<3,>=1.52 (from geopy)\n",
            "  Downloading geographiclib-2.0-py3-none-any.whl.metadata (1.4 kB)\n",
            "Downloading geopy-2.4.1-py3-none-any.whl (125 kB)\n",
            "   ---------------------------------------- 0.0/125.4 kB ? eta -:--:--\n",
            "   --------- ------------------------------ 30.7/125.4 kB 1.3 MB/s eta 0:00:01\n",
            "   ---------------------------------------  122.9/125.4 kB 1.4 MB/s eta 0:00:01\n",
            "   ---------------------------------------- 125.4/125.4 kB 1.2 MB/s eta 0:00:00\n",
            "Downloading geographiclib-2.0-py3-none-any.whl (40 kB)\n",
            "   ---------------------------------------- 0.0/40.3 kB ? eta -:--:--\n",
            "   ---------------------------------------- 40.3/40.3 kB 1.9 MB/s eta 0:00:00\n",
            "Installing collected packages: geographiclib, geopy\n",
            "Successfully installed geographiclib-2.0 geopy-2.4.1\n"
          ]
        },
        {
          "name": "stderr",
          "output_type": "stream",
          "text": [
            "\n",
            "[notice] A new release of pip is available: 23.3.1 -> 24.0\n",
            "[notice] To update, run: python.exe -m pip install --upgrade pip\n"
          ]
        }
      ],
      "source": [
        "! pip install geopy"
      ]
    },
    {
      "cell_type": "code",
      "execution_count": 24,
      "metadata": {
        "id": "tEj4GI_RG8zB"
      },
      "outputs": [],
      "source": [
        "ip='149.146.147.205'\n",
        "\n"
      ]
    },
    {
      "cell_type": "code",
      "execution_count": 25,
      "metadata": {
        "id": "0BBqvItOHTK0"
      },
      "outputs": [
        {
          "name": "stderr",
          "output_type": "stream",
          "text": [
            "Status code 403 from https://nominatim.openstreetmap.org/search: ERROR - 403 Client Error: Forbidden for url: https://nominatim.openstreetmap.org/search?q=Rotterdam+%28Centrum%29%2C+South+Holland+NL&format=jsonv2&addressdetails=1&limit=1\n",
            "Status code 403 from https://nominatim.openstreetmap.org/search: ERROR - 403 Client Error: Forbidden for url: https://nominatim.openstreetmap.org/search?q=Rotterdam+%28Centrum%29%2C+NL&format=jsonv2&addressdetails=1&limit=1\n"
          ]
        }
      ],
      "source": [
        "response=ip2geo.get(ip_address=ip,api_key='free')\n"
      ]
    },
    {
      "cell_type": "code",
      "execution_count": 26,
      "metadata": {
        "colab": {
          "base_uri": "https://localhost:8080/"
        },
        "id": "S1Zft2X-HZhZ",
        "outputId": "f0934106-e36a-419e-8f64-1383e1b19ff2"
      },
      "outputs": [
        {
          "data": {
            "text/plain": [
              "(None, None)"
            ]
          },
          "execution_count": 26,
          "metadata": {},
          "output_type": "execute_result"
        }
      ],
      "source": [
        "response.latitude,response.longitude"
      ]
    },
    {
      "cell_type": "code",
      "execution_count": 27,
      "metadata": {
        "id": "TBcBor15HpWO"
      },
      "outputs": [],
      "source": [
        "from geopy.distance import great_circle"
      ]
    },
    {
      "cell_type": "code",
      "execution_count": 28,
      "metadata": {
        "colab": {
          "base_uri": "https://localhost:8080/"
        },
        "id": "m93TzfLwIAbA",
        "outputId": "544d1f9d-27ed-4c0d-e9d6-2d47a3e55a24"
      },
      "outputs": [
        {
          "data": {
            "text/plain": [
              "3278.085330537922"
            ]
          },
          "execution_count": 28,
          "metadata": {},
          "output_type": "execute_result"
        }
      ],
      "source": [
        "great_circle((51.9220349, 4.4087428),(30.0443879, 31.2357257)).kilometers"
      ]
    },
    {
      "cell_type": "code",
      "execution_count": 29,
      "metadata": {
        "id": "jv8ItvN1IM0B"
      },
      "outputs": [],
      "source": [
        "from geopy.geocoders import Nominatim"
      ]
    },
    {
      "cell_type": "code",
      "execution_count": 30,
      "metadata": {
        "id": "E_B6L-_ZIiDZ"
      },
      "outputs": [],
      "source": [
        "geolocater=Nominatim(user_agent='course')"
      ]
    },
    {
      "cell_type": "code",
      "execution_count": 31,
      "metadata": {
        "id": "gSsnW0XsIvTw"
      },
      "outputs": [],
      "source": [
        "location=geolocater.geocode('Cairo Festival , Cairo , Egypt')"
      ]
    },
    {
      "cell_type": "code",
      "execution_count": 32,
      "metadata": {
        "colab": {
          "base_uri": "https://localhost:8080/"
        },
        "id": "zTt0z5klI-t1",
        "outputId": "d09f5ccb-c9b2-454e-cef0-8d43d73d80b9"
      },
      "outputs": [
        {
          "data": {
            "text/plain": [
              "{'place_id': 75303565,\n",
              " 'licence': 'Data © OpenStreetMap contributors, ODbL 1.0. http://osm.org/copyright',\n",
              " 'osm_type': 'way',\n",
              " 'osm_id': 26753320,\n",
              " 'lat': '30.026992800000002',\n",
              " 'lon': '31.40906325945414',\n",
              " 'class': 'place',\n",
              " 'type': 'neighbourhood',\n",
              " 'place_rank': 20,\n",
              " 'importance': 0.25000999999999995,\n",
              " 'addresstype': 'neighbourhood',\n",
              " 'name': 'كايرو فستيفال سيتى',\n",
              " 'display_name': 'كايرو فستيفال سيتى, القاهرة, مصر',\n",
              " 'boundingbox': ['30.0164179', '30.0374523', '31.4019316', '31.4220303']}"
            ]
          },
          "execution_count": 32,
          "metadata": {},
          "output_type": "execute_result"
        }
      ],
      "source": [
        "location.raw"
      ]
    },
    {
      "cell_type": "code",
      "execution_count": null,
      "metadata": {
        "id": "I6uTcAcOJD1q"
      },
      "outputs": [],
      "source": []
    }
  ],
  "metadata": {
    "colab": {
      "provenance": []
    },
    "kernelspec": {
      "display_name": "Python 3",
      "name": "python3"
    },
    "language_info": {
      "codemirror_mode": {
        "name": "ipython",
        "version": 3
      },
      "file_extension": ".py",
      "mimetype": "text/x-python",
      "name": "python",
      "nbconvert_exporter": "python",
      "pygments_lexer": "ipython3",
      "version": "3.11.3"
    }
  },
  "nbformat": 4,
  "nbformat_minor": 0
}
